Print("Hola")
Print("Me llamo Alejandro")
Print("Me gusta hacer senderismo con mi mascota")
